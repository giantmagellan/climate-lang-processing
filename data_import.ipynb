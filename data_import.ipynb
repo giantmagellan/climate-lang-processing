{
 "cells": [
  {
   "cell_type": "markdown",
   "metadata": {},
   "source": [
    "### Library import"
   ]
  },
  {
   "cell_type": "code",
   "execution_count": 27,
   "metadata": {},
   "outputs": [],
   "source": [
    "import pandas as pd\n",
    "import glob"
   ]
  },
  {
   "cell_type": "markdown",
   "metadata": {},
   "source": [
    "### Data import"
   ]
  },
  {
   "cell_type": "code",
   "execution_count": 34,
   "metadata": {},
   "outputs": [],
   "source": [
    "csv_files = glob.glob(\"TelevisionNews/*.csv\")\n",
    "df = []\n",
    "for file in csv_files:\n",
    "    csv = pd.read_csv(file, header=None, names=['URL', 'MatchDateTime', 'Station', 'Show', 'IAShowID','IAPreviewThumb','Snippet'])\n",
    "    csv = csv.iloc[1:] #drow first row containing column names \n",
    "    df.append(csv)\n",
    "df = pd.concat(df)"
   ]
  },
  {
   "cell_type": "code",
   "execution_count": 35,
   "metadata": {},
   "outputs": [
    {
     "data": {
      "text/html": [
       "<div>\n",
       "<style scoped>\n",
       "    .dataframe tbody tr th:only-of-type {\n",
       "        vertical-align: middle;\n",
       "    }\n",
       "\n",
       "    .dataframe tbody tr th {\n",
       "        vertical-align: top;\n",
       "    }\n",
       "\n",
       "    .dataframe thead th {\n",
       "        text-align: right;\n",
       "    }\n",
       "</style>\n",
       "<table border=\"1\" class=\"dataframe\">\n",
       "  <thead>\n",
       "    <tr style=\"text-align: right;\">\n",
       "      <th></th>\n",
       "      <th>MatchDateTime</th>\n",
       "      <th>Station</th>\n",
       "      <th>Snippet</th>\n",
       "    </tr>\n",
       "  </thead>\n",
       "  <tbody>\n",
       "    <tr>\n",
       "      <th>1</th>\n",
       "      <td>3/15/2011 15:11:06</td>\n",
       "      <td>FOXNEWS</td>\n",
       "      <td>forward. greg: i suppose worth pointing out th...</td>\n",
       "    </tr>\n",
       "    <tr>\n",
       "      <th>2</th>\n",
       "      <td>3/31/2011 13:16:41</td>\n",
       "      <td>FOXNEWS</td>\n",
       "      <td>threaten a government shutdown. that's what's ...</td>\n",
       "    </tr>\n",
       "    <tr>\n",
       "      <th>3</th>\n",
       "      <td>3/30/2011 17:29:04</td>\n",
       "      <td>FOXNEWS</td>\n",
       "      <td>and less likely. in any case, president obama ...</td>\n",
       "    </tr>\n",
       "    <tr>\n",
       "      <th>4</th>\n",
       "      <td>3/14/2011 22:09:55</td>\n",
       "      <td>FOXNEWS</td>\n",
       "      <td>environmental catastrophe in another part of t...</td>\n",
       "    </tr>\n",
       "    <tr>\n",
       "      <th>5</th>\n",
       "      <td>3/15/2011 8:09:55</td>\n",
       "      <td>FOXNEWS</td>\n",
       "      <td>environmental catastrophe in another part of t...</td>\n",
       "    </tr>\n",
       "    <tr>\n",
       "      <th>...</th>\n",
       "      <td>...</td>\n",
       "      <td>...</td>\n",
       "      <td>...</td>\n",
       "    </tr>\n",
       "    <tr>\n",
       "      <th>32</th>\n",
       "      <td>2/24/2012 14:24:07</td>\n",
       "      <td>CNN</td>\n",
       "      <td>will galvanize them to do stuff and understand...</td>\n",
       "    </tr>\n",
       "    <tr>\n",
       "      <th>33</th>\n",
       "      <td>2/23/2012 9:20:57</td>\n",
       "      <td>CNN</td>\n",
       "      <td>ballot. still to come on wbt, china, the u.s.,...</td>\n",
       "    </tr>\n",
       "    <tr>\n",
       "      <th>34</th>\n",
       "      <td>2/10/2012 15:57:13</td>\n",
       "      <td>CNN</td>\n",
       "      <td>or newt gingrich all that much at all. he was ...</td>\n",
       "    </tr>\n",
       "    <tr>\n",
       "      <th>35</th>\n",
       "      <td>2/29/2012 13:56:13</td>\n",
       "      <td>CNN</td>\n",
       "      <td>endless primary with hillary clinton. there we...</td>\n",
       "    </tr>\n",
       "    <tr>\n",
       "      <th>36</th>\n",
       "      <td>2/24/2012 14:23:51</td>\n",
       "      <td>CNN</td>\n",
       "      <td>australian officials, is this will be a really...</td>\n",
       "    </tr>\n",
       "  </tbody>\n",
       "</table>\n",
       "<p>94858 rows × 3 columns</p>\n",
       "</div>"
      ],
      "text/plain": [
       "         MatchDateTime  Station  \\\n",
       "1   3/15/2011 15:11:06  FOXNEWS   \n",
       "2   3/31/2011 13:16:41  FOXNEWS   \n",
       "3   3/30/2011 17:29:04  FOXNEWS   \n",
       "4   3/14/2011 22:09:55  FOXNEWS   \n",
       "5    3/15/2011 8:09:55  FOXNEWS   \n",
       "..                 ...      ...   \n",
       "32  2/24/2012 14:24:07      CNN   \n",
       "33   2/23/2012 9:20:57      CNN   \n",
       "34  2/10/2012 15:57:13      CNN   \n",
       "35  2/29/2012 13:56:13      CNN   \n",
       "36  2/24/2012 14:23:51      CNN   \n",
       "\n",
       "                                              Snippet  \n",
       "1   forward. greg: i suppose worth pointing out th...  \n",
       "2   threaten a government shutdown. that's what's ...  \n",
       "3   and less likely. in any case, president obama ...  \n",
       "4   environmental catastrophe in another part of t...  \n",
       "5   environmental catastrophe in another part of t...  \n",
       "..                                                ...  \n",
       "32  will galvanize them to do stuff and understand...  \n",
       "33  ballot. still to come on wbt, china, the u.s.,...  \n",
       "34  or newt gingrich all that much at all. he was ...  \n",
       "35  endless primary with hillary clinton. there we...  \n",
       "36  australian officials, is this will be a really...  \n",
       "\n",
       "[94858 rows x 3 columns]"
      ]
     },
     "execution_count": 35,
     "metadata": {},
     "output_type": "execute_result"
    }
   ],
   "source": [
    "df= df.drop(['URL','Show','IAShowID', 'IAPreviewThumb'], axis=1)\n",
    "df"
   ]
  },
  {
   "cell_type": "markdown",
   "metadata": {},
   "source": [
    "### Descriptive statistics"
   ]
  },
  {
   "cell_type": "code",
   "execution_count": 36,
   "metadata": {},
   "outputs": [
    {
     "name": "stdout",
     "output_type": "stream",
     "text": [
      "Number of news snippets: 94858\n"
     ]
    }
   ],
   "source": [
    "print(\"Number of news snippets:\", len(df))"
   ]
  },
  {
   "cell_type": "code",
   "execution_count": 37,
   "metadata": {},
   "outputs": [
    {
     "data": {
      "text/plain": [
       "Station\n",
       "MSNBC      26429\n",
       "FOXNEWS    25865\n",
       "BBCNEWS    23260\n",
       "CNN        19304\n",
       "Name: count, dtype: int64"
      ]
     },
     "execution_count": 37,
     "metadata": {},
     "output_type": "execute_result"
    }
   ],
   "source": [
    "df['Station'].value_counts()"
   ]
  }
 ],
 "metadata": {
  "kernelspec": {
   "display_name": "ADS500B",
   "language": "python",
   "name": "python3"
  },
  "language_info": {
   "codemirror_mode": {
    "name": "ipython",
    "version": 3
   },
   "file_extension": ".py",
   "mimetype": "text/x-python",
   "name": "python",
   "nbconvert_exporter": "python",
   "pygments_lexer": "ipython3",
   "version": "3.10.4"
  },
  "orig_nbformat": 4
 },
 "nbformat": 4,
 "nbformat_minor": 2
}
