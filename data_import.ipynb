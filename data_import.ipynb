{
 "cells": [
  {
   "cell_type": "markdown",
   "metadata": {},
   "source": [
    "### Library import"
   ]
  },
  {
   "cell_type": "code",
   "execution_count": 43,
   "metadata": {},
   "outputs": [
    {
     "name": "stdout",
     "output_type": "stream",
     "text": [
      "Requirement already satisfied: textblob in /opt/miniconda3/envs/ADS500B/lib/python3.10/site-packages (0.18.0.post0)\n",
      "Requirement already satisfied: nltk>=3.8 in /opt/miniconda3/envs/ADS500B/lib/python3.10/site-packages (from textblob) (3.8.1)\n",
      "Requirement already satisfied: tqdm in /opt/miniconda3/envs/ADS500B/lib/python3.10/site-packages (from nltk>=3.8->textblob) (4.64.0)\n",
      "Requirement already satisfied: regex>=2021.8.3 in /opt/miniconda3/envs/ADS500B/lib/python3.10/site-packages (from nltk>=3.8->textblob) (2022.3.15)\n",
      "Requirement already satisfied: joblib in /opt/miniconda3/envs/ADS500B/lib/python3.10/site-packages (from nltk>=3.8->textblob) (1.3.2)\n",
      "Requirement already satisfied: click in /opt/miniconda3/envs/ADS500B/lib/python3.10/site-packages (from nltk>=3.8->textblob) (8.0.4)\n"
     ]
    }
   ],
   "source": [
    "from matplotlib import pyplot as plt\n",
    "import pandas as pd\n",
    "import glob\n",
    "\n",
    "from string import punctuation\n",
    "from nltk.corpus import stopwords\n",
    "from collections import defaultdict, Counter\n",
    "from wordcloud import WordCloud\n",
    "\n",
    "!pip install textblob\n",
    "from textblob import TextBlob\n",
    "\n",
    "from sklearn.feature_extraction.text import CountVectorizer, TfidfVectorizer\n",
    "from sklearn.decomposition import NMF, TruncatedSVD, LatentDirichletAllocation\n",
    "import pyLDAvis\n",
    "import pyLDAvis.lda_model\n",
    "import pyLDAvis.gensim_models\n",
    "\n",
    "from gensim.corpora import Dictionary\n",
    "from gensim.models import TfidfModel\n",
    "from gensim.models import LdaModel\n",
    "\n",
    "import warnings\n",
    "warnings.filterwarnings('ignore')"
   ]
  },
  {
   "cell_type": "markdown",
   "metadata": {},
   "source": [
    "### Data import"
   ]
  },
  {
   "cell_type": "code",
   "execution_count": 2,
   "metadata": {},
   "outputs": [],
   "source": [
    "csv_files = glob.glob(\"TelevisionNews/*.csv\")\n",
    "df = []\n",
    "for file in csv_files:\n",
    "    csv = pd.read_csv(file, header=None, names=['URL', 'MatchDateTime', 'Station', 'Show', 'IAShowID','IAPreviewThumb','Snippet'])\n",
    "    csv = csv.iloc[1:] #drow first row containing column names \n",
    "    df.append(csv)\n",
    "df = pd.concat(df)"
   ]
  },
  {
   "cell_type": "code",
   "execution_count": 3,
   "metadata": {},
   "outputs": [
    {
     "data": {
      "text/html": [
       "<div>\n",
       "<style scoped>\n",
       "    .dataframe tbody tr th:only-of-type {\n",
       "        vertical-align: middle;\n",
       "    }\n",
       "\n",
       "    .dataframe tbody tr th {\n",
       "        vertical-align: top;\n",
       "    }\n",
       "\n",
       "    .dataframe thead th {\n",
       "        text-align: right;\n",
       "    }\n",
       "</style>\n",
       "<table border=\"1\" class=\"dataframe\">\n",
       "  <thead>\n",
       "    <tr style=\"text-align: right;\">\n",
       "      <th></th>\n",
       "      <th>MatchDateTime</th>\n",
       "      <th>Station</th>\n",
       "      <th>Snippet</th>\n",
       "    </tr>\n",
       "  </thead>\n",
       "  <tbody>\n",
       "    <tr>\n",
       "      <th>1</th>\n",
       "      <td>3/15/2011 15:11:06</td>\n",
       "      <td>FOXNEWS</td>\n",
       "      <td>forward. greg: i suppose worth pointing out th...</td>\n",
       "    </tr>\n",
       "    <tr>\n",
       "      <th>2</th>\n",
       "      <td>3/31/2011 13:16:41</td>\n",
       "      <td>FOXNEWS</td>\n",
       "      <td>threaten a government shutdown. that's what's ...</td>\n",
       "    </tr>\n",
       "    <tr>\n",
       "      <th>3</th>\n",
       "      <td>3/30/2011 17:29:04</td>\n",
       "      <td>FOXNEWS</td>\n",
       "      <td>and less likely. in any case, president obama ...</td>\n",
       "    </tr>\n",
       "    <tr>\n",
       "      <th>4</th>\n",
       "      <td>3/14/2011 22:09:55</td>\n",
       "      <td>FOXNEWS</td>\n",
       "      <td>environmental catastrophe in another part of t...</td>\n",
       "    </tr>\n",
       "    <tr>\n",
       "      <th>5</th>\n",
       "      <td>3/15/2011 8:09:55</td>\n",
       "      <td>FOXNEWS</td>\n",
       "      <td>environmental catastrophe in another part of t...</td>\n",
       "    </tr>\n",
       "    <tr>\n",
       "      <th>...</th>\n",
       "      <td>...</td>\n",
       "      <td>...</td>\n",
       "      <td>...</td>\n",
       "    </tr>\n",
       "    <tr>\n",
       "      <th>32</th>\n",
       "      <td>2/24/2012 14:24:07</td>\n",
       "      <td>CNN</td>\n",
       "      <td>will galvanize them to do stuff and understand...</td>\n",
       "    </tr>\n",
       "    <tr>\n",
       "      <th>33</th>\n",
       "      <td>2/23/2012 9:20:57</td>\n",
       "      <td>CNN</td>\n",
       "      <td>ballot. still to come on wbt, china, the u.s.,...</td>\n",
       "    </tr>\n",
       "    <tr>\n",
       "      <th>34</th>\n",
       "      <td>2/10/2012 15:57:13</td>\n",
       "      <td>CNN</td>\n",
       "      <td>or newt gingrich all that much at all. he was ...</td>\n",
       "    </tr>\n",
       "    <tr>\n",
       "      <th>35</th>\n",
       "      <td>2/29/2012 13:56:13</td>\n",
       "      <td>CNN</td>\n",
       "      <td>endless primary with hillary clinton. there we...</td>\n",
       "    </tr>\n",
       "    <tr>\n",
       "      <th>36</th>\n",
       "      <td>2/24/2012 14:23:51</td>\n",
       "      <td>CNN</td>\n",
       "      <td>australian officials, is this will be a really...</td>\n",
       "    </tr>\n",
       "  </tbody>\n",
       "</table>\n",
       "<p>94858 rows × 3 columns</p>\n",
       "</div>"
      ],
      "text/plain": [
       "         MatchDateTime  Station  \\\n",
       "1   3/15/2011 15:11:06  FOXNEWS   \n",
       "2   3/31/2011 13:16:41  FOXNEWS   \n",
       "3   3/30/2011 17:29:04  FOXNEWS   \n",
       "4   3/14/2011 22:09:55  FOXNEWS   \n",
       "5    3/15/2011 8:09:55  FOXNEWS   \n",
       "..                 ...      ...   \n",
       "32  2/24/2012 14:24:07      CNN   \n",
       "33   2/23/2012 9:20:57      CNN   \n",
       "34  2/10/2012 15:57:13      CNN   \n",
       "35  2/29/2012 13:56:13      CNN   \n",
       "36  2/24/2012 14:23:51      CNN   \n",
       "\n",
       "                                              Snippet  \n",
       "1   forward. greg: i suppose worth pointing out th...  \n",
       "2   threaten a government shutdown. that's what's ...  \n",
       "3   and less likely. in any case, president obama ...  \n",
       "4   environmental catastrophe in another part of t...  \n",
       "5   environmental catastrophe in another part of t...  \n",
       "..                                                ...  \n",
       "32  will galvanize them to do stuff and understand...  \n",
       "33  ballot. still to come on wbt, china, the u.s.,...  \n",
       "34  or newt gingrich all that much at all. he was ...  \n",
       "35  endless primary with hillary clinton. there we...  \n",
       "36  australian officials, is this will be a really...  \n",
       "\n",
       "[94858 rows x 3 columns]"
      ]
     },
     "execution_count": 3,
     "metadata": {},
     "output_type": "execute_result"
    }
   ],
   "source": [
    "df= df.drop(['URL','Show','IAShowID', 'IAPreviewThumb'], axis=1)\n",
    "df"
   ]
  },
  {
   "cell_type": "code",
   "execution_count": 4,
   "metadata": {},
   "outputs": [
    {
     "data": {
      "text/plain": [
       "MatchDateTime    datetime64[ns]\n",
       "Station          string[python]\n",
       "Snippet          string[python]\n",
       "dtype: object"
      ]
     },
     "execution_count": 4,
     "metadata": {},
     "output_type": "execute_result"
    }
   ],
   "source": [
    "# change dtypes \n",
    "df['MatchDateTime'] = pd.to_datetime(df['MatchDateTime'])\n",
    "df['Station'] = df['Station'].astype('string')\n",
    "df['Snippet'] = df['Snippet'].astype('string')\n",
    "\n",
    "df.dtypes"
   ]
  },
  {
   "cell_type": "markdown",
   "metadata": {},
   "source": [
    "### Descriptive statistics"
   ]
  },
  {
   "cell_type": "code",
   "execution_count": 20,
   "metadata": {},
   "outputs": [],
   "source": [
    "# define functions\n",
    "\n",
    "punctuation = set(punctuation) # speeds up comparison\n",
    "sw = stopwords.words('english')\n",
    "\n",
    "def remove_stopwords(tokens) :\n",
    "    return [token for token in tokens if token not in sw]\n",
    "    return(tokens)\n",
    "\n",
    "def remove_punctuation(text) :\n",
    "    return \"\".join(ch for ch in text if ch not in punctuation)\n",
    "\n",
    "def tokenize(text) :\n",
    "    tokens = text.split()\n",
    "    return(tokens)\n",
    "\n",
    "def descriptive_stats(tokens, verbose=True) :\n",
    "    num_tokens=len(tokens)\n",
    "    num_unique_tokens = len(set(tokens))\n",
    "    lexical_diversity = num_unique_tokens/num_tokens\n",
    "    num_characters = sum(len(token) for token in tokens)\n",
    "\n",
    "    if verbose :\n",
    "        print(f\"There are {num_tokens} tokens in the data.\")\n",
    "        print(f\"There are {num_unique_tokens} unique tokens in the data.\")\n",
    "        print(f\"There are {num_characters} characters in the data.\")\n",
    "        print(f\"The lexical diversity is {lexical_diversity:.3f} in the data.\")\n",
    "\n",
    "        # print the five most common tokens\n",
    "        counter = Counter(tokens)\n",
    "        top_10_tokens = counter.most_common(10)\n",
    "        print(\"\\nTop 10 most common tokens:\")\n",
    "        for token, count in top_10_tokens:\n",
    "            print(f\"{token}: {count} occurrences\")\n",
    "\n",
    "    return([num_tokens, num_unique_tokens,\n",
    "            lexical_diversity,\n",
    "            num_characters])\n",
    "\n",
    "def count_words(df, column='Tokens', preprocess=None, min_freq=2):\n",
    "\n",
    "    # process tokens and update counter\n",
    "    def update(doc):\n",
    "        tokens = doc if preprocess is None else preprocess(doc)\n",
    "        counter.update(tokens)\n",
    "\n",
    "    # create counter and run through all data\n",
    "    counter = Counter()\n",
    "    df[column].map(update)\n",
    "\n",
    "    # transform counter into data frame\n",
    "    freq_df = pd.DataFrame.from_dict(counter, orient='index', columns=['freq'])\n",
    "    freq_df = freq_df.query('freq >= @min_freq')\n",
    "    freq_df.index.name = 'token'\n",
    "\n",
    "    return freq_df.sort_values('freq', ascending=False)"
   ]
  },
  {
   "cell_type": "code",
   "execution_count": 35,
   "metadata": {},
   "outputs": [],
   "source": [
    "def wordcloud(word_freq, title=None, max_words=200, stopwords=sw):\n",
    "\n",
    "    wc = WordCloud(width=800, height=400,\n",
    "                   background_color= \"black\", colormap=\"Paired\",\n",
    "                   max_font_size=150, max_words=max_words)\n",
    "\n",
    "    # convert data frame into dict\n",
    "    if type(word_freq) == pd.Series:\n",
    "        counter = Counter(word_freq.fillna(0).to_dict())\n",
    "    else:\n",
    "        counter = word_freq\n",
    "\n",
    "    # filter stop words in frequency counter\n",
    "    if stopwords is not None:\n",
    "        counter = {token:freq for (token, freq) in counter.items()\n",
    "                              if token not in stopwords}\n",
    "    wc.generate_from_frequencies(counter)\n",
    "\n",
    "    plt.title(title)\n",
    "\n",
    "    plt.imshow(wc, interpolation='bilinear')\n",
    "    plt.axis(\"off\")"
   ]
  },
  {
   "cell_type": "code",
   "execution_count": 6,
   "metadata": {},
   "outputs": [
    {
     "name": "stdout",
     "output_type": "stream",
     "text": [
      "Number of news snippets: 94858\n",
      "News stations: <StringArray>\n",
      "['FOXNEWS', 'MSNBC', 'BBCNEWS', 'CNN']\n",
      "Length: 4, dtype: string\n",
      "\n",
      "Count of snippets for each news station: \n",
      " Station\n",
      "MSNBC      26429\n",
      "FOXNEWS    25865\n",
      "BBCNEWS    23260\n",
      "CNN        19304\n",
      "Name: count, dtype: Int64\n"
     ]
    }
   ],
   "source": [
    "print(\"Number of news snippets:\", len(df))\n",
    "print(\"News stations:\", df['Station'].unique())\n",
    "print(\"\\nCount of snippets for each news station: \\n\",df['Station'].value_counts())"
   ]
  },
  {
   "cell_type": "code",
   "execution_count": 7,
   "metadata": {},
   "outputs": [
    {
     "data": {
      "text/html": [
       "<div>\n",
       "<style scoped>\n",
       "    .dataframe tbody tr th:only-of-type {\n",
       "        vertical-align: middle;\n",
       "    }\n",
       "\n",
       "    .dataframe tbody tr th {\n",
       "        vertical-align: top;\n",
       "    }\n",
       "\n",
       "    .dataframe thead th {\n",
       "        text-align: right;\n",
       "    }\n",
       "</style>\n",
       "<table border=\"1\" class=\"dataframe\">\n",
       "  <thead>\n",
       "    <tr style=\"text-align: right;\">\n",
       "      <th></th>\n",
       "      <th>MatchDateTime</th>\n",
       "      <th>Station</th>\n",
       "      <th>Snippet</th>\n",
       "      <th>Tokens</th>\n",
       "    </tr>\n",
       "  </thead>\n",
       "  <tbody>\n",
       "    <tr>\n",
       "      <th>1</th>\n",
       "      <td>2011-03-15 15:11:06</td>\n",
       "      <td>FOXNEWS</td>\n",
       "      <td>forward. greg: i suppose worth pointing out th...</td>\n",
       "      <td>[forward, greg, suppose, worth, pointing, gene...</td>\n",
       "    </tr>\n",
       "    <tr>\n",
       "      <th>2</th>\n",
       "      <td>2011-03-31 13:16:41</td>\n",
       "      <td>FOXNEWS</td>\n",
       "      <td>threaten a government shutdown. that's what's ...</td>\n",
       "      <td>[threaten, government, shutdown, thats, whats,...</td>\n",
       "    </tr>\n",
       "    <tr>\n",
       "      <th>3</th>\n",
       "      <td>2011-03-30 17:29:04</td>\n",
       "      <td>FOXNEWS</td>\n",
       "      <td>and less likely. in any case, president obama ...</td>\n",
       "      <td>[less, likely, case, president, obama, would, ...</td>\n",
       "    </tr>\n",
       "    <tr>\n",
       "      <th>4</th>\n",
       "      <td>2011-03-14 22:09:55</td>\n",
       "      <td>FOXNEWS</td>\n",
       "      <td>environmental catastrophe in another part of t...</td>\n",
       "      <td>[environmental, catastrophe, another, part, wo...</td>\n",
       "    </tr>\n",
       "    <tr>\n",
       "      <th>5</th>\n",
       "      <td>2011-03-15 08:09:55</td>\n",
       "      <td>FOXNEWS</td>\n",
       "      <td>environmental catastrophe in another part of t...</td>\n",
       "      <td>[environmental, catastrophe, another, part, wo...</td>\n",
       "    </tr>\n",
       "    <tr>\n",
       "      <th>...</th>\n",
       "      <td>...</td>\n",
       "      <td>...</td>\n",
       "      <td>...</td>\n",
       "      <td>...</td>\n",
       "    </tr>\n",
       "    <tr>\n",
       "      <th>32</th>\n",
       "      <td>2012-02-24 14:24:07</td>\n",
       "      <td>CNN</td>\n",
       "      <td>will galvanize them to do stuff and understand...</td>\n",
       "      <td>[galvanize, stuff, understand, climate, change...</td>\n",
       "    </tr>\n",
       "    <tr>\n",
       "      <th>33</th>\n",
       "      <td>2012-02-23 09:20:57</td>\n",
       "      <td>CNN</td>\n",
       "      <td>ballot. still to come on wbt, china, the u.s.,...</td>\n",
       "      <td>[ballot, still, come, wbt, china, us, russia, ...</td>\n",
       "    </tr>\n",
       "    <tr>\n",
       "      <th>34</th>\n",
       "      <td>2012-02-10 15:57:13</td>\n",
       "      <td>CNN</td>\n",
       "      <td>or newt gingrich all that much at all. he was ...</td>\n",
       "      <td>[newt, gingrich, much, really, trying, say, fo...</td>\n",
       "    </tr>\n",
       "    <tr>\n",
       "      <th>35</th>\n",
       "      <td>2012-02-29 13:56:13</td>\n",
       "      <td>CNN</td>\n",
       "      <td>endless primary with hillary clinton. there we...</td>\n",
       "      <td>[endless, primary, hillary, clinton, policy, i...</td>\n",
       "    </tr>\n",
       "    <tr>\n",
       "      <th>36</th>\n",
       "      <td>2012-02-24 14:23:51</td>\n",
       "      <td>CNN</td>\n",
       "      <td>australian officials, is this will be a really...</td>\n",
       "      <td>[australian, officials, really, good, thing, a...</td>\n",
       "    </tr>\n",
       "  </tbody>\n",
       "</table>\n",
       "<p>94858 rows × 4 columns</p>\n",
       "</div>"
      ],
      "text/plain": [
       "         MatchDateTime  Station  \\\n",
       "1  2011-03-15 15:11:06  FOXNEWS   \n",
       "2  2011-03-31 13:16:41  FOXNEWS   \n",
       "3  2011-03-30 17:29:04  FOXNEWS   \n",
       "4  2011-03-14 22:09:55  FOXNEWS   \n",
       "5  2011-03-15 08:09:55  FOXNEWS   \n",
       "..                 ...      ...   \n",
       "32 2012-02-24 14:24:07      CNN   \n",
       "33 2012-02-23 09:20:57      CNN   \n",
       "34 2012-02-10 15:57:13      CNN   \n",
       "35 2012-02-29 13:56:13      CNN   \n",
       "36 2012-02-24 14:23:51      CNN   \n",
       "\n",
       "                                              Snippet  \\\n",
       "1   forward. greg: i suppose worth pointing out th...   \n",
       "2   threaten a government shutdown. that's what's ...   \n",
       "3   and less likely. in any case, president obama ...   \n",
       "4   environmental catastrophe in another part of t...   \n",
       "5   environmental catastrophe in another part of t...   \n",
       "..                                                ...   \n",
       "32  will galvanize them to do stuff and understand...   \n",
       "33  ballot. still to come on wbt, china, the u.s.,...   \n",
       "34  or newt gingrich all that much at all. he was ...   \n",
       "35  endless primary with hillary clinton. there we...   \n",
       "36  australian officials, is this will be a really...   \n",
       "\n",
       "                                               Tokens  \n",
       "1   [forward, greg, suppose, worth, pointing, gene...  \n",
       "2   [threaten, government, shutdown, thats, whats,...  \n",
       "3   [less, likely, case, president, obama, would, ...  \n",
       "4   [environmental, catastrophe, another, part, wo...  \n",
       "5   [environmental, catastrophe, another, part, wo...  \n",
       "..                                                ...  \n",
       "32  [galvanize, stuff, understand, climate, change...  \n",
       "33  [ballot, still, come, wbt, china, us, russia, ...  \n",
       "34  [newt, gingrich, much, really, trying, say, fo...  \n",
       "35  [endless, primary, hillary, clinton, policy, i...  \n",
       "36  [australian, officials, really, good, thing, a...  \n",
       "\n",
       "[94858 rows x 4 columns]"
      ]
     },
     "execution_count": 7,
     "metadata": {},
     "output_type": "execute_result"
    }
   ],
   "source": [
    "# data preprocessing\n",
    "df['Tokens'] = df['Snippet'].str.lower()\n",
    "df['Tokens'] = df['Tokens'].apply(remove_punctuation)\n",
    "df['Tokens'] = tokenize(df['Tokens'].str)\n",
    "df['Tokens'] = df['Tokens'].apply(remove_stopwords)\n",
    "df"
   ]
  },
  {
   "cell_type": "code",
   "execution_count": 12,
   "metadata": {},
   "outputs": [
    {
     "name": "stdout",
     "output_type": "stream",
     "text": [
      "There are 2106506 tokens in the data.\n",
      "There are 46276 unique tokens in the data.\n",
      "There are 12859252 characters in the data.\n",
      "The lexical diversity is 0.022 in the data.\n",
      "\n",
      "Top 10 most common tokens:\n",
      "climate: 85155 occurrences\n",
      "change: 77697 occurrences\n",
      "global: 24371 occurrences\n",
      "warming: 21077 occurrences\n",
      "president: 13685 occurrences\n",
      "people: 12512 occurrences\n",
      "going: 11690 occurrences\n",
      "think: 11525 occurrences\n",
      "one: 10363 occurrences\n",
      "us: 9523 occurrences\n"
     ]
    },
    {
     "data": {
      "text/plain": [
       "[2106506, 46276, 0.02196813111379697, 12859252]"
      ]
     },
     "execution_count": 12,
     "metadata": {},
     "output_type": "execute_result"
    }
   ],
   "source": [
    "combined_tokens=[token for sublist in df['Tokens'] for token in sublist]\n",
    "descriptive_stats(combined_tokens)"
   ]
  },
  {
   "cell_type": "code",
   "execution_count": 41,
   "metadata": {},
   "outputs": [
    {
     "data": {
      "image/png": "[encoded data removed]",
      "text/plain": [
       "<Figure size 432x288 with 1 Axes>"
      ]
     },
     "metadata": {
      "needs_background": "light"
     },
     "output_type": "display_data"
    }
   ],
   "source": [
    "words = count_words(df)\n",
    "wordcloud(words['freq'])"
   ]
  },
  {
   "cell_type": "markdown",
   "metadata": {},
   "source": [
    "### Sentiment analysis with Textblob"
   ]
  },
  {
   "cell_type": "code",
   "execution_count": 45,
   "metadata": {},
   "outputs": [],
   "source": [
    "df['polarity'] = df['Snippet'].apply(lambda x: TextBlob(x).polarity)\n",
    "df['subjectivity'] = df['Snippet'].apply(lambda x: TextBlob(x).subjectivity)"
   ]
  },
  {
   "cell_type": "code",
   "execution_count": 48,
   "metadata": {},
   "outputs": [
    {
     "data": {
      "text/html": [
       "<div>\n",
       "<style scoped>\n",
       "    .dataframe tbody tr th:only-of-type {\n",
       "        vertical-align: middle;\n",
       "    }\n",
       "\n",
       "    .dataframe tbody tr th {\n",
       "        vertical-align: top;\n",
       "    }\n",
       "\n",
       "    .dataframe thead th {\n",
       "        text-align: right;\n",
       "    }\n",
       "</style>\n",
       "<table border=\"1\" class=\"dataframe\">\n",
       "  <thead>\n",
       "    <tr style=\"text-align: right;\">\n",
       "      <th></th>\n",
       "      <th>MatchDateTime</th>\n",
       "      <th>Station</th>\n",
       "      <th>Snippet</th>\n",
       "      <th>Tokens</th>\n",
       "      <th>polarity</th>\n",
       "      <th>subjectivity</th>\n",
       "    </tr>\n",
       "  </thead>\n",
       "  <tbody>\n",
       "    <tr>\n",
       "      <th>191</th>\n",
       "      <td>2014-04-19 12:13:17</td>\n",
       "      <td>MSNBC</td>\n",
       "      <td>be required o solve this crisis. but i'm not s...</td>\n",
       "      <td>[required, solve, crisis, im, sure, ready, mak...</td>\n",
       "      <td>-0.05</td>\n",
       "      <td>0.659722</td>\n",
       "    </tr>\n",
       "    <tr>\n",
       "      <th>12</th>\n",
       "      <td>2013-10-11 07:17:09</td>\n",
       "      <td>FOXNEWS</td>\n",
       "      <td>shorter lines at starbucks. i think that is an...</td>\n",
       "      <td>[shorter, lines, starbucks, think, interesting...</td>\n",
       "      <td>0.50</td>\n",
       "      <td>0.500000</td>\n",
       "    </tr>\n",
       "    <tr>\n",
       "      <th>318</th>\n",
       "      <td>2019-03-21 02:49:32</td>\n",
       "      <td>BBCNEWS</td>\n",
       "      <td>he will be aware that that has already helped ...</td>\n",
       "      <td>[aware, already, helped, 47, million, people, ...</td>\n",
       "      <td>0.25</td>\n",
       "      <td>0.250000</td>\n",
       "    </tr>\n",
       "    <tr>\n",
       "      <th>583</th>\n",
       "      <td>2019-08-27 10:38:42</td>\n",
       "      <td>CNN</td>\n",
       "      <td>president, yeah. i kind of think so, joe, and ...</td>\n",
       "      <td>[president, yeah, kind, think, joe, gets, issu...</td>\n",
       "      <td>0.20</td>\n",
       "      <td>0.333333</td>\n",
       "    </tr>\n",
       "    <tr>\n",
       "      <th>126</th>\n",
       "      <td>2013-11-12 05:26:56</td>\n",
       "      <td>CNN</td>\n",
       "      <td>this. frankly, i don't know why, dr. spencer, ...</td>\n",
       "      <td>[frankly, dont, know, dr, spencer, believe, do...</td>\n",
       "      <td>0.00</td>\n",
       "      <td>0.522222</td>\n",
       "    </tr>\n",
       "  </tbody>\n",
       "</table>\n",
       "</div>"
      ],
      "text/plain": [
       "          MatchDateTime  Station  \\\n",
       "191 2014-04-19 12:13:17    MSNBC   \n",
       "12  2013-10-11 07:17:09  FOXNEWS   \n",
       "318 2019-03-21 02:49:32  BBCNEWS   \n",
       "583 2019-08-27 10:38:42      CNN   \n",
       "126 2013-11-12 05:26:56      CNN   \n",
       "\n",
       "                                               Snippet  \\\n",
       "191  be required o solve this crisis. but i'm not s...   \n",
       "12   shorter lines at starbucks. i think that is an...   \n",
       "318  he will be aware that that has already helped ...   \n",
       "583  president, yeah. i kind of think so, joe, and ...   \n",
       "126  this. frankly, i don't know why, dr. spencer, ...   \n",
       "\n",
       "                                                Tokens  polarity  subjectivity  \n",
       "191  [required, solve, crisis, im, sure, ready, mak...     -0.05      0.659722  \n",
       "12   [shorter, lines, starbucks, think, interesting...      0.50      0.500000  \n",
       "318  [aware, already, helped, 47, million, people, ...      0.25      0.250000  \n",
       "583  [president, yeah, kind, think, joe, gets, issu...      0.20      0.333333  \n",
       "126  [frankly, dont, know, dr, spencer, believe, do...      0.00      0.522222  "
      ]
     },
     "execution_count": 48,
     "metadata": {},
     "output_type": "execute_result"
    }
   ],
   "source": [
    "df.sample(n=5)"
   ]
  },
  {
   "cell_type": "markdown",
   "metadata": {},
   "source": [
    "### Topic modeling\n"
   ]
  },
  {
   "cell_type": "code",
   "execution_count": 27,
   "metadata": {},
   "outputs": [
    {
     "data": {
      "text/plain": [
       "(2106506, 16017)"
      ]
     },
     "execution_count": 27,
     "metadata": {},
     "output_type": "execute_result"
    }
   ],
   "source": [
    "# Count Vectorizer\n",
    "count_vectorizer = CountVectorizer(stop_words='english', min_df=5, max_df=0.7)\n",
    "count_vectors = count_vectorizer.fit_transform(combined_tokens)\n",
    "count_vectors.shape"
   ]
  },
  {
   "cell_type": "code",
   "execution_count": 28,
   "metadata": {},
   "outputs": [
    {
     "data": {
      "text/plain": [
       "(2106506, 16017)"
      ]
     },
     "execution_count": 28,
     "metadata": {},
     "output_type": "execute_result"
    }
   ],
   "source": [
    "# TF-IDF Vectorizer\n",
    "tfidf_vectorizer = TfidfVectorizer(stop_words='english', min_df=5, max_df=0.7)\n",
    "tfidf_vectors = tfidf_vectorizer.fit_transform(combined_tokens)\n",
    "tfidf_vectors.shape"
   ]
  },
  {
   "cell_type": "markdown",
   "metadata": {},
   "source": [
    "#### LDA"
   ]
  },
  {
   "cell_type": "code",
   "execution_count": 31,
   "metadata": {},
   "outputs": [
    {
     "ename": "KeyboardInterrupt",
     "evalue": "",
     "output_type": "error",
     "traceback": [
      "\u001b[0;31m---------------------------------------------------------------------------\u001b[0m",
      "\u001b[0;31mKeyboardInterrupt\u001b[0m                         Traceback (most recent call last)",
      "\u001b[1;32m/Users/viviando/Desktop/MSADS/ads599_capstone/climate-lang-processing/data_import.ipynb Cell 17\u001b[0m line \u001b[0;36m<cell line: 3>\u001b[0;34m()\u001b[0m\n\u001b[1;32m      <a href='vscode-notebook-cell:/Users/viviando/Desktop/MSADS/ads599_capstone/climate-lang-processing/data_import.ipynb#X34sZmlsZQ%3D%3D?line=0'>1</a>\u001b[0m \u001b[39m# Fitting LDA Model\u001b[39;00m\n\u001b[1;32m      <a href='vscode-notebook-cell:/Users/viviando/Desktop/MSADS/ads599_capstone/climate-lang-processing/data_import.ipynb#X34sZmlsZQ%3D%3D?line=1'>2</a>\u001b[0m lda_model \u001b[39m=\u001b[39m LatentDirichletAllocation(n_components\u001b[39m=\u001b[39m\u001b[39m5\u001b[39m, random_state\u001b[39m=\u001b[39m\u001b[39m314\u001b[39m)\n\u001b[0;32m----> <a href='vscode-notebook-cell:/Users/viviando/Desktop/MSADS/ads599_capstone/climate-lang-processing/data_import.ipynb#X34sZmlsZQ%3D%3D?line=2'>3</a>\u001b[0m W_lda_matrix \u001b[39m=\u001b[39m lda_model\u001b[39m.\u001b[39;49mfit_transform(count_vectors)\n\u001b[1;32m      <a href='vscode-notebook-cell:/Users/viviando/Desktop/MSADS/ads599_capstone/climate-lang-processing/data_import.ipynb#X34sZmlsZQ%3D%3D?line=3'>4</a>\u001b[0m H_lda_matrix \u001b[39m=\u001b[39m lda_model\u001b[39m.\u001b[39mcomponents_\n\u001b[1;32m      <a href='vscode-notebook-cell:/Users/viviando/Desktop/MSADS/ads599_capstone/climate-lang-processing/data_import.ipynb#X34sZmlsZQ%3D%3D?line=5'>6</a>\u001b[0m \u001b[39m# Display LDA Model\u001b[39;00m\n",
      "File \u001b[0;32m/opt/miniconda3/envs/ADS500B/lib/python3.10/site-packages/sklearn/base.py:867\u001b[0m, in \u001b[0;36mTransformerMixin.fit_transform\u001b[0;34m(self, X, y, **fit_params)\u001b[0m\n\u001b[1;32m    863\u001b[0m \u001b[39m# non-optimized default implementation; override when a better\u001b[39;00m\n\u001b[1;32m    864\u001b[0m \u001b[39m# method is possible for a given clustering algorithm\u001b[39;00m\n\u001b[1;32m    865\u001b[0m \u001b[39mif\u001b[39;00m y \u001b[39mis\u001b[39;00m \u001b[39mNone\u001b[39;00m:\n\u001b[1;32m    866\u001b[0m     \u001b[39m# fit method of arity 1 (unsupervised transformation)\u001b[39;00m\n\u001b[0;32m--> 867\u001b[0m     \u001b[39mreturn\u001b[39;00m \u001b[39mself\u001b[39;49m\u001b[39m.\u001b[39;49mfit(X, \u001b[39m*\u001b[39;49m\u001b[39m*\u001b[39;49mfit_params)\u001b[39m.\u001b[39mtransform(X)\n\u001b[1;32m    868\u001b[0m \u001b[39melse\u001b[39;00m:\n\u001b[1;32m    869\u001b[0m     \u001b[39m# fit method of arity 2 (supervised transformation)\u001b[39;00m\n\u001b[1;32m    870\u001b[0m     \u001b[39mreturn\u001b[39;00m \u001b[39mself\u001b[39m\u001b[39m.\u001b[39mfit(X, y, \u001b[39m*\u001b[39m\u001b[39m*\u001b[39mfit_params)\u001b[39m.\u001b[39mtransform(X)\n",
      "File \u001b[0;32m/opt/miniconda3/envs/ADS500B/lib/python3.10/site-packages/sklearn/decomposition/_lda.py:640\u001b[0m, in \u001b[0;36mLatentDirichletAllocation.fit\u001b[0;34m(self, X, y)\u001b[0m\n\u001b[1;32m    632\u001b[0m         \u001b[39mself\u001b[39m\u001b[39m.\u001b[39m_em_step(\n\u001b[1;32m    633\u001b[0m             X[idx_slice, :],\n\u001b[1;32m    634\u001b[0m             total_samples\u001b[39m=\u001b[39mn_samples,\n\u001b[1;32m    635\u001b[0m             batch_update\u001b[39m=\u001b[39m\u001b[39mFalse\u001b[39;00m,\n\u001b[1;32m    636\u001b[0m             parallel\u001b[39m=\u001b[39mparallel,\n\u001b[1;32m    637\u001b[0m         )\n\u001b[1;32m    638\u001b[0m \u001b[39melse\u001b[39;00m:\n\u001b[1;32m    639\u001b[0m     \u001b[39m# batch update\u001b[39;00m\n\u001b[0;32m--> 640\u001b[0m     \u001b[39mself\u001b[39;49m\u001b[39m.\u001b[39;49m_em_step(\n\u001b[1;32m    641\u001b[0m         X, total_samples\u001b[39m=\u001b[39;49mn_samples, batch_update\u001b[39m=\u001b[39;49m\u001b[39mTrue\u001b[39;49;00m, parallel\u001b[39m=\u001b[39;49mparallel\n\u001b[1;32m    642\u001b[0m     )\n\u001b[1;32m    644\u001b[0m \u001b[39m# check perplexity\u001b[39;00m\n\u001b[1;32m    645\u001b[0m \u001b[39mif\u001b[39;00m evaluate_every \u001b[39m>\u001b[39m \u001b[39m0\u001b[39m \u001b[39mand\u001b[39;00m (i \u001b[39m+\u001b[39m \u001b[39m1\u001b[39m) \u001b[39m%\u001b[39m evaluate_every \u001b[39m==\u001b[39m \u001b[39m0\u001b[39m:\n",
      "File \u001b[0;32m/opt/miniconda3/envs/ADS500B/lib/python3.10/site-packages/sklearn/decomposition/_lda.py:503\u001b[0m, in \u001b[0;36mLatentDirichletAllocation._em_step\u001b[0;34m(self, X, total_samples, batch_update, parallel)\u001b[0m\n\u001b[1;32m    476\u001b[0m \u001b[39m\"\"\"EM update for 1 iteration.\u001b[39;00m\n\u001b[1;32m    477\u001b[0m \n\u001b[1;32m    478\u001b[0m \u001b[39mupdate `_component` by batch VB or online VB.\u001b[39;00m\n\u001b[0;32m   (...)\u001b[0m\n\u001b[1;32m    499\u001b[0m \u001b[39m    Unnormalized document topic distribution.\u001b[39;00m\n\u001b[1;32m    500\u001b[0m \u001b[39m\"\"\"\u001b[39;00m\n\u001b[1;32m    502\u001b[0m \u001b[39m# E-step\u001b[39;00m\n\u001b[0;32m--> 503\u001b[0m _, suff_stats \u001b[39m=\u001b[39m \u001b[39mself\u001b[39;49m\u001b[39m.\u001b[39;49m_e_step(\n\u001b[1;32m    504\u001b[0m     X, cal_sstats\u001b[39m=\u001b[39;49m\u001b[39mTrue\u001b[39;49;00m, random_init\u001b[39m=\u001b[39;49m\u001b[39mTrue\u001b[39;49;00m, parallel\u001b[39m=\u001b[39;49mparallel\n\u001b[1;32m    505\u001b[0m )\n\u001b[1;32m    507\u001b[0m \u001b[39m# M-step\u001b[39;00m\n\u001b[1;32m    508\u001b[0m \u001b[39mif\u001b[39;00m batch_update:\n",
      "File \u001b[0;32m/opt/miniconda3/envs/ADS500B/lib/python3.10/site-packages/sklearn/decomposition/_lda.py:446\u001b[0m, in \u001b[0;36mLatentDirichletAllocation._e_step\u001b[0;34m(self, X, cal_sstats, random_init, parallel)\u001b[0m\n\u001b[1;32m    444\u001b[0m \u001b[39mif\u001b[39;00m parallel \u001b[39mis\u001b[39;00m \u001b[39mNone\u001b[39;00m:\n\u001b[1;32m    445\u001b[0m     parallel \u001b[39m=\u001b[39m Parallel(n_jobs\u001b[39m=\u001b[39mn_jobs, verbose\u001b[39m=\u001b[39m\u001b[39mmax\u001b[39m(\u001b[39m0\u001b[39m, \u001b[39mself\u001b[39m\u001b[39m.\u001b[39mverbose \u001b[39m-\u001b[39m \u001b[39m1\u001b[39m))\n\u001b[0;32m--> 446\u001b[0m results \u001b[39m=\u001b[39m parallel(\n\u001b[1;32m    447\u001b[0m     delayed(_update_doc_distribution)(\n\u001b[1;32m    448\u001b[0m         X[idx_slice, :],\n\u001b[1;32m    449\u001b[0m         \u001b[39mself\u001b[39;49m\u001b[39m.\u001b[39;49mexp_dirichlet_component_,\n\u001b[1;32m    450\u001b[0m         \u001b[39mself\u001b[39;49m\u001b[39m.\u001b[39;49mdoc_topic_prior_,\n\u001b[1;32m    451\u001b[0m         \u001b[39mself\u001b[39;49m\u001b[39m.\u001b[39;49mmax_doc_update_iter,\n\u001b[1;32m    452\u001b[0m         \u001b[39mself\u001b[39;49m\u001b[39m.\u001b[39;49mmean_change_tol,\n\u001b[1;32m    453\u001b[0m         cal_sstats,\n\u001b[1;32m    454\u001b[0m         random_state,\n\u001b[1;32m    455\u001b[0m     )\n\u001b[1;32m    456\u001b[0m     \u001b[39mfor\u001b[39;49;00m idx_slice \u001b[39min\u001b[39;49;00m gen_even_slices(X\u001b[39m.\u001b[39;49mshape[\u001b[39m0\u001b[39;49m], n_jobs)\n\u001b[1;32m    457\u001b[0m )\n\u001b[1;32m    459\u001b[0m \u001b[39m# merge result\u001b[39;00m\n\u001b[1;32m    460\u001b[0m doc_topics, sstats_list \u001b[39m=\u001b[39m \u001b[39mzip\u001b[39m(\u001b[39m*\u001b[39mresults)\n",
      "File \u001b[0;32m/opt/miniconda3/envs/ADS500B/lib/python3.10/site-packages/joblib/parallel.py:1863\u001b[0m, in \u001b[0;36mParallel.__call__\u001b[0;34m(self, iterable)\u001b[0m\n\u001b[1;32m   1861\u001b[0m     output \u001b[39m=\u001b[39m \u001b[39mself\u001b[39m\u001b[39m.\u001b[39m_get_sequential_output(iterable)\n\u001b[1;32m   1862\u001b[0m     \u001b[39mnext\u001b[39m(output)\n\u001b[0;32m-> 1863\u001b[0m     \u001b[39mreturn\u001b[39;00m output \u001b[39mif\u001b[39;00m \u001b[39mself\u001b[39m\u001b[39m.\u001b[39mreturn_generator \u001b[39melse\u001b[39;00m \u001b[39mlist\u001b[39;49m(output)\n\u001b[1;32m   1865\u001b[0m \u001b[39m# Let's create an ID that uniquely identifies the current call. If the\u001b[39;00m\n\u001b[1;32m   1866\u001b[0m \u001b[39m# call is interrupted early and that the same instance is immediately\u001b[39;00m\n\u001b[1;32m   1867\u001b[0m \u001b[39m# re-used, this id will be used to prevent workers that were\u001b[39;00m\n\u001b[1;32m   1868\u001b[0m \u001b[39m# concurrently finalizing a task from the previous call to run the\u001b[39;00m\n\u001b[1;32m   1869\u001b[0m \u001b[39m# callback.\u001b[39;00m\n\u001b[1;32m   1870\u001b[0m \u001b[39mwith\u001b[39;00m \u001b[39mself\u001b[39m\u001b[39m.\u001b[39m_lock:\n",
      "File \u001b[0;32m/opt/miniconda3/envs/ADS500B/lib/python3.10/site-packages/joblib/parallel.py:1792\u001b[0m, in \u001b[0;36mParallel._get_sequential_output\u001b[0;34m(self, iterable)\u001b[0m\n\u001b[1;32m   1790\u001b[0m \u001b[39mself\u001b[39m\u001b[39m.\u001b[39mn_dispatched_batches \u001b[39m+\u001b[39m\u001b[39m=\u001b[39m \u001b[39m1\u001b[39m\n\u001b[1;32m   1791\u001b[0m \u001b[39mself\u001b[39m\u001b[39m.\u001b[39mn_dispatched_tasks \u001b[39m+\u001b[39m\u001b[39m=\u001b[39m \u001b[39m1\u001b[39m\n\u001b[0;32m-> 1792\u001b[0m res \u001b[39m=\u001b[39m func(\u001b[39m*\u001b[39;49margs, \u001b[39m*\u001b[39;49m\u001b[39m*\u001b[39;49mkwargs)\n\u001b[1;32m   1793\u001b[0m \u001b[39mself\u001b[39m\u001b[39m.\u001b[39mn_completed_tasks \u001b[39m+\u001b[39m\u001b[39m=\u001b[39m \u001b[39m1\u001b[39m\n\u001b[1;32m   1794\u001b[0m \u001b[39mself\u001b[39m\u001b[39m.\u001b[39mprint_progress()\n",
      "File \u001b[0;32m/opt/miniconda3/envs/ADS500B/lib/python3.10/site-packages/sklearn/utils/fixes.py:117\u001b[0m, in \u001b[0;36m_FuncWrapper.__call__\u001b[0;34m(self, *args, **kwargs)\u001b[0m\n\u001b[1;32m    115\u001b[0m \u001b[39mdef\u001b[39;00m \u001b[39m__call__\u001b[39m(\u001b[39mself\u001b[39m, \u001b[39m*\u001b[39margs, \u001b[39m*\u001b[39m\u001b[39m*\u001b[39mkwargs):\n\u001b[1;32m    116\u001b[0m     \u001b[39mwith\u001b[39;00m config_context(\u001b[39m*\u001b[39m\u001b[39m*\u001b[39m\u001b[39mself\u001b[39m\u001b[39m.\u001b[39mconfig):\n\u001b[0;32m--> 117\u001b[0m         \u001b[39mreturn\u001b[39;00m \u001b[39mself\u001b[39;49m\u001b[39m.\u001b[39;49mfunction(\u001b[39m*\u001b[39;49margs, \u001b[39m*\u001b[39;49m\u001b[39m*\u001b[39;49mkwargs)\n",
      "File \u001b[0;32m/opt/miniconda3/envs/ADS500B/lib/python3.10/site-packages/sklearn/decomposition/_lda.py:122\u001b[0m, in \u001b[0;36m_update_doc_distribution\u001b[0;34m(X, exp_topic_word_distr, doc_topic_prior, max_doc_update_iter, mean_change_tol, cal_sstats, random_state)\u001b[0m\n\u001b[1;32m    118\u001b[0m last_d \u001b[39m=\u001b[39m doc_topic_d\n\u001b[1;32m    120\u001b[0m \u001b[39m# The optimal phi_{dwk} is proportional to\u001b[39;00m\n\u001b[1;32m    121\u001b[0m \u001b[39m# exp(E[log(theta_{dk})]) * exp(E[log(beta_{dw})]).\u001b[39;00m\n\u001b[0;32m--> 122\u001b[0m norm_phi \u001b[39m=\u001b[39m np\u001b[39m.\u001b[39;49mdot(exp_doc_topic_d, exp_topic_word_d) \u001b[39m+\u001b[39m EPS\n\u001b[1;32m    124\u001b[0m doc_topic_d \u001b[39m=\u001b[39m exp_doc_topic_d \u001b[39m*\u001b[39m np\u001b[39m.\u001b[39mdot(cnts \u001b[39m/\u001b[39m norm_phi, exp_topic_word_d\u001b[39m.\u001b[39mT)\n\u001b[1;32m    125\u001b[0m \u001b[39m# Note: adds doc_topic_prior to doc_topic_d, in-place.\u001b[39;00m\n",
      "File \u001b[0;32m<__array_function__ internals>:200\u001b[0m, in \u001b[0;36mdot\u001b[0;34m(*args, **kwargs)\u001b[0m\n",
      "\u001b[0;31mKeyboardInterrupt\u001b[0m: "
     ]
    }
   ],
   "source": [
    "## takes >25 minutes\n",
    "# Fitting LDA Model\n",
    "lda_model = LatentDirichletAllocation(n_components=5, random_state=314)\n",
    "W_lda_matrix = lda_model.fit_transform(count_vectors)\n",
    "H_lda_matrix = lda_model.components_\n",
    "\n",
    "# Display LDA Model\n",
    "display_topics(lda_model, count_vectorizer.get_feature_names_out())"
   ]
  },
  {
   "cell_type": "code",
   "execution_count": null,
   "metadata": {},
   "outputs": [],
   "source": [
    "lda_display = pyLDAvis.lda_model.prepare(lda_model, count_vectors, count_vectorizer, sort_topics=False)\n",
    "pyLDAvis.display(lda_display)"
   ]
  },
  {
   "cell_type": "markdown",
   "metadata": {},
   "source": [
    "#### LDA w/ Gensim"
   ]
  },
  {
   "cell_type": "code",
   "execution_count": 23,
   "metadata": {},
   "outputs": [],
   "source": [
    "# tokens stored in df['Recipe_tokens']\n",
    "gensim_tokens = df['Tokens']\n",
    "\n",
    "# initialize Gensim dictionary \n",
    "dict_gensim = Dictionary(gensim_tokens)\n",
    "\n",
    "# filter for words that appear in: at least 5 but not more than 70% of all snippets\n",
    "dict_gensim.filter_extremes(no_below=5, no_above=0.7)\n",
    "\n",
    "# calculate bag of words matrix\n",
    "bow_gensim = [dict_gensim.doc2bow(token) for token in gensim_tokens]\n",
    "\n",
    "# perform TF-IDF transformation\n",
    "\n",
    "tfidf_gensim = TfidfModel(bow_gensim)\n",
    "vectors_gensim = tfidf_gensim[bow_gensim]"
   ]
  },
  {
   "cell_type": "code",
   "execution_count": 17,
   "metadata": {},
   "outputs": [],
   "source": [
    "# using LDA with Gensim\n",
    "lda_gensim = LdaModel (corpus = bow_gensim,\n",
    "                       id2word = dict_gensim,\n",
    "                       chunksize = 2000,\n",
    "                       alpha = 'auto',\n",
    "                       eta = 'auto',\n",
    "                       iterations = 400,\n",
    "                       num_topics = 5,\n",
    "                       passes = 20,\n",
    "                       eval_every = None,\n",
    "                       random_state = 509)"
   ]
  },
  {
   "cell_type": "code",
   "execution_count": 18,
   "metadata": {},
   "outputs": [
    {
     "name": "stdout",
     "output_type": "stream",
     "text": [
      "Topic #1: 0.024*\"world\" + 0.018*\"greenhouse\" + 0.017*\"new\" + 0.017*\"emissions\" + 0.014*\"carbon\" + 0.013*\"gas\" + 0.011*\"government\" + 0.011*\"action\" + 0.010*\"environment\" + 0.010*\"news\"\n",
      "Topic #2: 0.017*\"weather\" + 0.011*\"facing\" + 0.009*\"record\" + 0.008*\"air\" + 0.008*\"water\" + 0.008*\"seen\" + 0.008*\"extreme\" + 0.008*\"across\" + 0.007*\"become\" + 0.006*\"finds\"\n",
      "Topic #3: 0.023*\"president\" + 0.021*\"us\" + 0.015*\"said\" + 0.014*\"trump\" + 0.010*\"first\" + 0.010*\"today\" + 0.009*\"next\" + 0.008*\"two\" + 0.008*\"crisis\" + 0.008*\"hes\"\n",
      "Topic #4: 0.025*\"global\" + 0.023*\"warming\" + 0.020*\"people\" + 0.016*\"think\" + 0.014*\"going\" + 0.013*\"like\" + 0.013*\"one\" + 0.012*\"say\" + 0.010*\"get\" + 0.010*\"would\"\n",
      "Topic #5: 0.024*\"years\" + 0.018*\"year\" + 0.017*\"scientists\" + 0.017*\"could\" + 0.012*\"says\" + 0.012*\"report\" + 0.010*\"impact\" + 0.009*\"temperatures\" + 0.008*\"planet\" + 0.008*\"global\"\n"
     ]
    }
   ],
   "source": [
    "# see word distribution of topics\n",
    "#display_topics_gensim(lda_gensim)\n",
    "lda_gensim_topics = lda_gensim.show_topics(num_topics=5, num_words=10)\n",
    "\n",
    "# Display the topics\n",
    "for topic_idx, topic in lda_gensim_topics:\n",
    "    print(f\"Topic #{topic_idx + 1}: {topic}\")"
   ]
  }
 ],
 "metadata": {
  "kernelspec": {
   "display_name": "ADS500B",
   "language": "python",
   "name": "python3"
  },
  "language_info": {
   "codemirror_mode": {
    "name": "ipython",
    "version": 3
   },
   "file_extension": ".py",
   "mimetype": "text/x-python",
   "name": "python",
   "nbconvert_exporter": "python",
   "pygments_lexer": "ipython3",
   "version": "3.10.4"
  },
  "orig_nbformat": 4
 },
 "nbformat": 4,
 "nbformat_minor": 2
}
