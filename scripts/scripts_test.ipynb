{
 "cells": [
  {
   "cell_type": "code",
   "execution_count": 1,
   "metadata": {},
   "outputs": [],
   "source": [
    "from llm import generate_llm_output\n",
    "from prompts import system_prompt_topic, topic_introduction, topic_instructions"
   ]
  },
  {
   "cell_type": "code",
   "execution_count": 2,
   "metadata": {},
   "outputs": [],
   "source": [
    "snippets = [\n",
    "    \"times today. it follows on from his meeting with the pope yesterday, which was a similar theme. that's right, when the pope handed him one of the that can's in cyclicals, a big report on climate change, to\"\n",
    "]"
   ]
  },
  {
   "cell_type": "code",
   "execution_count": 3,
   "metadata": {},
   "outputs": [],
   "source": [
    "topic_payload = {\n",
    "    \"system_prompt\": system_prompt_topic,\n",
    "    \"introduction\": topic_introduction,\n",
    "    \"instruction\": topic_instructions,\n",
    "    \"snippet\": snippets[0]\n",
    "}"
   ]
  },
  {
   "cell_type": "code",
   "execution_count": 4,
   "metadata": {},
   "outputs": [
    {
     "data": {
      "text/plain": [
       "'climate change report'"
      ]
     },
     "execution_count": 4,
     "metadata": {},
     "output_type": "execute_result"
    }
   ],
   "source": [
    "generate_llm_output(topic_payload)"
   ]
  }
 ],
 "metadata": {
  "kernelspec": {
   "display_name": "climate-lang-processing-BkjdiFik",
   "language": "python",
   "name": "python3"
  },
  "language_info": {
   "codemirror_mode": {
    "name": "ipython",
    "version": 3
   },
   "file_extension": ".py",
   "mimetype": "text/x-python",
   "name": "python",
   "nbconvert_exporter": "python",
   "pygments_lexer": "ipython3",
   "version": "3.8.8"
  }
 },
 "nbformat": 4,
 "nbformat_minor": 2
}
