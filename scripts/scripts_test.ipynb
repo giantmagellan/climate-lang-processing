{
 "cells": [
  {
   "cell_type": "code",
   "execution_count": null,
   "metadata": {},
   "outputs": [],
   "source": [
    "from llm import generate_llm_output\n",
    "from prompts import system_prompt_topic, topic_introduction, topic_instructions"
   ]
  },
  {
   "cell_type": "code",
   "execution_count": null,
   "metadata": {},
   "outputs": [],
   "source": [
    "snippets = [\n",
    "    \"times today. it follows on from his meeting with the pope yesterday, which was a similar theme. that's right, when the pope handed him one of the that can's in cyclicals, a big report on climate change, to\"\n",
    "]"
   ]
  },
  {
   "cell_type": "code",
   "execution_count": null,
   "metadata": {},
   "outputs": [],
   "source": [
    "topic_payload = {\n",
    "    \"system_prompt\": system_prompt_topic,\n",
    "    \"introduction\": topic_introduction,\n",
    "    \"instructions\": topic_instructions,\n",
    "    \"snippet\": snippets[0]\n",
    "}"
   ]
  },
  {
   "cell_type": "code",
   "execution_count": null,
   "metadata": {},
   "outputs": [],
   "source": [
    "generate_llm_output(topic_payload)"
   ]
  }
 ],
 "metadata": {
  "kernelspec": {
   "display_name": "climate-lang-processing-BkjdiFik",
   "language": "python",
   "name": "python3"
  },
  "language_info": {
   "name": "python",
   "version": "3.8.6"
  }
 },
 "nbformat": 4,
 "nbformat_minor": 2
}
