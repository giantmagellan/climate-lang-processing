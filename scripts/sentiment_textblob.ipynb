{
 "cells": [
  {
   "cell_type": "markdown",
   "metadata": {},
   "source": [
    "### Library import"
   ]
  },
  {
   "cell_type": "code",
   "execution_count": 5,
   "metadata": {},
   "outputs": [
    {
     "name": "stdout",
     "output_type": "stream",
     "text": [
      "Requirement already satisfied: textblob in /opt/miniconda3/envs/ADS500B/lib/python3.10/site-packages (0.18.0.post0)\n",
      "Requirement already satisfied: nltk>=3.8 in /opt/miniconda3/envs/ADS500B/lib/python3.10/site-packages (from textblob) (3.8.1)\n",
      "Requirement already satisfied: regex>=2021.8.3 in /opt/miniconda3/envs/ADS500B/lib/python3.10/site-packages (from nltk>=3.8->textblob) (2022.3.15)\n",
      "Requirement already satisfied: tqdm in /opt/miniconda3/envs/ADS500B/lib/python3.10/site-packages (from nltk>=3.8->textblob) (4.64.0)\n",
      "Requirement already satisfied: click in /opt/miniconda3/envs/ADS500B/lib/python3.10/site-packages (from nltk>=3.8->textblob) (8.0.4)\n",
      "Requirement already satisfied: joblib in /opt/miniconda3/envs/ADS500B/lib/python3.10/site-packages (from nltk>=3.8->textblob) (1.3.2)\n"
     ]
    }
   ],
   "source": [
    "from matplotlib import pyplot as plt\n",
    "import pandas as pd\n",
    "import glob\n",
    "import os\n",
    "\n",
    "from string import punctuation\n",
    "from nltk.corpus import stopwords\n",
    "from collections import defaultdict, Counter\n",
    "from wordcloud import WordCloud\n",
    "\n",
    "!pip install textblob\n",
    "from textblob import TextBlob\n",
    "\n",
    "import warnings\n",
    "warnings.filterwarnings('ignore')"
   ]
  },
  {
   "cell_type": "code",
   "execution_count": 7,
   "metadata": {},
   "outputs": [],
   "source": [
    "df = pd.read_csv('data/news_cleaned.csv')\n",
    "#df['tokens'] = df['tokens'].str.replace(\"'\", \"\")\n",
    "#df['tokens_no_climate'] = df['tokens_no_climate'].str.replace(\"'\", \"\")"
   ]
  },
  {
   "cell_type": "code",
   "execution_count": 8,
   "metadata": {},
   "outputs": [
    {
     "data": {
      "text/plain": [
       "90863"
      ]
     },
     "execution_count": 8,
     "metadata": {},
     "output_type": "execute_result"
    }
   ],
   "source": [
    "len(df)"
   ]
  },
  {
   "cell_type": "markdown",
   "metadata": {},
   "source": [
    "### Sentiment analysis with Textblob"
   ]
  },
  {
   "cell_type": "markdown",
   "metadata": {},
   "source": [
    "Textblob polarity scoring is between [-1.0 to 1.0] where -1.0 indicates negative sentiment and 1.0 indicates positive sentiment.\n",
    "\n",
    "Textblob subjectivity scoring is between [0.0 to 1.0], where 0.0 is very objective, and 1.0 is very subjective. "
   ]
  },
  {
   "cell_type": "code",
   "execution_count": 9,
   "metadata": {},
   "outputs": [],
   "source": [
    "df['polarity'] = df['snippet'].apply(lambda x: TextBlob(x).polarity)\n",
    "df['subjectivity'] = df['snippet'].apply(lambda x: TextBlob(x).subjectivity)"
   ]
  },
  {
   "cell_type": "code",
   "execution_count": 15,
   "metadata": {},
   "outputs": [],
   "source": [
    "# make binary\n",
    "def get_polarity(num):\n",
    "    if num <0:\n",
    "        return 'negative'\n",
    "    else:\n",
    "        return 'positive'\n",
    "    \n",
    "def get_subjectivity(num):\n",
    "    if num < .50:\n",
    "        return 'objective'\n",
    "    else:\n",
    "        return 'subjective'\n",
    "    \n",
    "df['polarity_binary'] = df['polarity'].apply(get_polarity)\n",
    "df['subjectivity_binary'] = df['subjectivity'].apply(get_subjectivity)"
   ]
  },
  {
   "cell_type": "code",
   "execution_count": 16,
   "metadata": {},
   "outputs": [
    {
     "data": {
      "text/html": [
       "<div>\n",
       "<style scoped>\n",
       "    .dataframe tbody tr th:only-of-type {\n",
       "        vertical-align: middle;\n",
       "    }\n",
       "\n",
       "    .dataframe tbody tr th {\n",
       "        vertical-align: top;\n",
       "    }\n",
       "\n",
       "    .dataframe thead th {\n",
       "        text-align: right;\n",
       "    }\n",
       "</style>\n",
       "<table border=\"1\" class=\"dataframe\">\n",
       "  <thead>\n",
       "    <tr style=\"text-align: right;\">\n",
       "      <th></th>\n",
       "      <th>matchdatetime</th>\n",
       "      <th>station</th>\n",
       "      <th>snippet</th>\n",
       "      <th>polarity</th>\n",
       "      <th>polarity_binary</th>\n",
       "      <th>subjectivity</th>\n",
       "      <th>subjectivity</th>\n",
       "    </tr>\n",
       "  </thead>\n",
       "  <tbody>\n",
       "    <tr>\n",
       "      <th>83263</th>\n",
       "      <td>2019-12-23 04:03:51</td>\n",
       "      <td>BBCNEWS</td>\n",
       "      <td>from the weekend's bushfires, and while the we...</td>\n",
       "      <td>-0.103935</td>\n",
       "      <td>negative</td>\n",
       "      <td>0.362963</td>\n",
       "      <td>0.362963</td>\n",
       "    </tr>\n",
       "    <tr>\n",
       "      <th>84708</th>\n",
       "      <td>2019-06-18 11:04:13</td>\n",
       "      <td>BBCNEWS</td>\n",
       "      <td>londoners will be affected by concentrated fli...</td>\n",
       "      <td>-0.152273</td>\n",
       "      <td>negative</td>\n",
       "      <td>0.509091</td>\n",
       "      <td>0.509091</td>\n",
       "    </tr>\n",
       "    <tr>\n",
       "      <th>345</th>\n",
       "      <td>2013-01-15 13:13:18</td>\n",
       "      <td>FOXNEWS</td>\n",
       "      <td>black workers and the black family. i would ch...</td>\n",
       "      <td>0.177778</td>\n",
       "      <td>positive</td>\n",
       "      <td>0.411111</td>\n",
       "      <td>0.411111</td>\n",
       "    </tr>\n",
       "    <tr>\n",
       "      <th>86254</th>\n",
       "      <td>2009-10-23 05:50:58</td>\n",
       "      <td>MSNBC</td>\n",
       "      <td>legislation to try to stop climate change but ...</td>\n",
       "      <td>-0.433333</td>\n",
       "      <td>negative</td>\n",
       "      <td>0.600000</td>\n",
       "      <td>0.600000</td>\n",
       "    </tr>\n",
       "    <tr>\n",
       "      <th>24163</th>\n",
       "      <td>2016-11-19 08:18:36</td>\n",
       "      <td>FOXNEWS</td>\n",
       "      <td>warming. clean air and clean water. when we ta...</td>\n",
       "      <td>0.146667</td>\n",
       "      <td>positive</td>\n",
       "      <td>0.580000</td>\n",
       "      <td>0.580000</td>\n",
       "    </tr>\n",
       "  </tbody>\n",
       "</table>\n",
       "</div>"
      ],
      "text/plain": [
       "             matchdatetime  station  \\\n",
       "83263  2019-12-23 04:03:51  BBCNEWS   \n",
       "84708  2019-06-18 11:04:13  BBCNEWS   \n",
       "345    2013-01-15 13:13:18  FOXNEWS   \n",
       "86254  2009-10-23 05:50:58    MSNBC   \n",
       "24163  2016-11-19 08:18:36  FOXNEWS   \n",
       "\n",
       "                                                 snippet  polarity  \\\n",
       "83263  from the weekend's bushfires, and while the we... -0.103935   \n",
       "84708  londoners will be affected by concentrated fli... -0.152273   \n",
       "345    black workers and the black family. i would ch...  0.177778   \n",
       "86254  legislation to try to stop climate change but ... -0.433333   \n",
       "24163  warming. clean air and clean water. when we ta...  0.146667   \n",
       "\n",
       "      polarity_binary  subjectivity  subjectivity  \n",
       "83263        negative      0.362963      0.362963  \n",
       "84708        negative      0.509091      0.509091  \n",
       "345          positive      0.411111      0.411111  \n",
       "86254        negative      0.600000      0.600000  \n",
       "24163        positive      0.580000      0.580000  "
      ]
     },
     "execution_count": 16,
     "metadata": {},
     "output_type": "execute_result"
    }
   ],
   "source": [
    "df[['matchdatetime', 'station', 'snippet', 'polarity','polarity_binary', 'subjectivity','subjectivity']].sample(n=5)"
   ]
  },
  {
   "cell_type": "code",
   "execution_count": 12,
   "metadata": {},
   "outputs": [
    {
     "name": "stdout",
     "output_type": "stream",
     "text": [
      "environmental catastrophe in another part of the world. so far, administration officials are not backing away from nuclear. which they said will reduce emissions and prevent climate\n",
      "strict greenhouse gas reduction law. prop 23 would suspend that law and that, of course, would be awesome for companies that make a lot of money by making a lot of pollution. 97% of the funding for prop 23 so far comes from oil and chemical companies, including a\n",
      "and state chapters of the naacp. the letters urged perriello to vote against climate change legislation. the letters were fake. tea party groups camped out mr. perriello's virginia office, one\n",
      "targeting climate change, is there a bit of hypocrisy of it? i disagree with it. i think you find it funny. he made hundred million. he is 3500 votes of being\n",
      "producing countries? yes, it is. so you al gore are doing business with this country. [ laughter ] that's enabling your ultimate foe, climate change? i think i understand what you are getting at. [ laughter ] but i disagree with it.\n",
      "our dependence on petroleum producing countries? yes, it is. so you al gore are doing business with this country. [ laughter ] that's enabling your ultimate foe, climate change? i think i understand what you are getting at. [ laughter ] but i disagree with it.\n",
      "world in terms of what is going on? because you can, we could argue about climate change and taub about the environment on a important issue no doubt but is that a priority issue when talking finite space of the inaugural address is that\n",
      "been dishonourably discharged. matthew scully-hicks has been found guilty of murdering his 18-month-old baby just two weeks after formally adopting her. as the un climate change conference\n",
      "about his wife. this year is likely to be one of the warmest on record, that's according to the world metrelogical organisation. its report was released as the un climate change conference began\n",
      "eating lunch and using his mobile phone. highways england, which funded the vehicle, said it would continue to use the hgv to catch offenders. this year is likely to be one of the warmest on record, that's according to the world meteorological organisation. its report was released as the un climate change conference began\n"
     ]
    }
   ],
   "source": [
    "# see 10 most subjective snippets\n",
    "s= df.nlargest(10, 'subjectivity')[['snippet','station']].index\n",
    "for index in s:\n",
    "    print(df.loc[index, 'snippet'])"
   ]
  },
  {
   "cell_type": "code",
   "execution_count": 13,
   "metadata": {},
   "outputs": [
    {
     "name": "stdout",
     "output_type": "stream",
     "text": [
      "by 2050, countries like that might not exist. closer to home, things like wildfires, devastating hurricanes, food shortages, migrations, they're all a host of awful things associated with climate change. we're already seeing the beginnings of this now. and this report just underscores\n",
      "report warns of devastating effects from climate change. president trump suggested that he doesn't believe it, what's your response to the president? look, the climate den\n",
      "we're going to have to build shelters so people can escape when these terrible fires get out of hand. and yes, we're going to have to deal with climate change. all of that. reporter: meanwhile, 145 evacuees and workers in shelters around butte county are suffering from norovirus.\n",
      "published scientific literature. so what this report will tell us is that we are seeing the impact of climate change on our coastlines here in the united states, in terms of devastating superstorms. you add a foot of sea level rise and we could see six feet to\n",
      "impact on our economy. so as a policymaker i refuse to support initiatives that l. do nothing to impact the environment or the climate but have devastating impact on our economy. so i understand if you had sufficient information presented to you to show that climate change exists\n",
      "climate change. a country like colombia, that is especially vulnerable, because of our geography, our location. what happened, this tragedy, it is a demonstration that climate change has terrible effects. the intensity\n",
      "he is weakening america, he is losing jobs, he's exposing americans to worst climate change. americans to worst climate change. we'll have the details and the reaction to the president's announcement. also tonight:\n",
      "that you are the worst person to be appointed to thatjob. appointed to that job. one of the things i will say is, when it comes to climate change, before i was ever an mp and indeed before david cameron became leader of the conservative party and put the\n",
      "i don't watch comedies alone. a side of rice that no one ordered. what insane comment susan rice said about climate change after the break. i will give conservatives\n",
      "videos from rachel maddow, as well as msnbc.com. he shared a cnn video of an anti-trump climate change rally in which the shooter revealed he was among the thousands of protesters here in washington. in one particularly nasty post on facebook, hodgkinson\n"
     ]
    }
   ],
   "source": [
    "# see 10 most negative snippets\n",
    "s= df.nsmallest(10, 'polarity')[['snippet','station']].index\n",
    "for index in s:\n",
    "    print(df.loc[index, 'snippet'])"
   ]
  },
  {
   "cell_type": "code",
   "execution_count": 14,
   "metadata": {},
   "outputs": [
    {
     "name": "stdout",
     "output_type": "stream",
     "text": [
      "issues, or pressing concerns - whether it be climate change, animal exploitation or refugees. at the forefront of films addressing the refugee crisis was 80-year-old legendary actress, vanessa redgrave,\n",
      "some scientists have called climate change the greatest threat that humanity changes. president trump's defense secretar james mattis called it a challenge to national security. the president said he would make\n",
      "that is not all. causation is the republican resolution that climate change is happening and we need to find a solution. while she has had an impressive start in congress, she does not plan to be there forever. i do think institutionally congress benefits from having a\n",
      "candidates. by the way, in massachusetts they say the shape of the field determines the winner. here's the people that look like they may run against her. maybe ed markey, very impressive senior who did all this mark pushing the climate change and\n",
      "truly greatest weapons. but the speech had nothing to say about climate change,\n",
      "is national security. gdp growth, which is way ahead of schedule under my administration, will be one of america's truly greatest weapons. but the speech had nothing to say about climate change,\n",
      "schedule under my administration, will be one of america's truly greatest weapons. but the speech had nothing to say about climate change, something that barack obama had deemed a threat to national\n",
      "biofuel. brazil has the world's largest fleet of flex fuel cars, meaning they can run on both petrol and ethanol. for years, the industry here thought biofuels were the best way to reduce greenhouse gas\n",
      "biofuel. brazil has the world 's largest amount of flux fuels which means a command petrol and ethanol. for yea rs for years the industry thought biofuels with the best way to reduce greenhouse gas emissions but now the world seems to be going electric.\n",
      "matt mcgrath reports. for decades, the disease have been oui' for decades, the disease have been our best friend in the fight against climate change, soaking up carbon dioxide and access heat. the scale of verbal warming means we have gone\n"
     ]
    }
   ],
   "source": [
    "# see 10 most positive snippets\n",
    "s = df.nlargest(10, 'polarity')[['snippet','station']].index\n",
    "for index in s:\n",
    "    print(df.loc[index, 'snippet'])"
   ]
  },
  {
   "cell_type": "code",
   "execution_count": null,
   "metadata": {},
   "outputs": [
    {
     "name": "stdout",
     "output_type": "stream",
     "text": [
      "         Average Polarity  Average Subjectivity\n",
      "station                                        \n",
      "BBCNEWS          0.088726              0.395586\n",
      "CNN              0.097142              0.397627\n",
      "FOXNEWS          0.075069              0.369970\n",
      "MSNBC            0.099143              0.396647\n"
     ]
    }
   ],
   "source": [
    "# calculate average polarity and subjectivity for each station\n",
    "station_stats = df.groupby('station').agg({'polarity': 'mean', 'subjectivity': 'mean'})\n",
    "\n",
    "# rename column\n",
    "station_stats.columns = ['Average Polarity', 'Average Subjectivity']\n",
    "print(station_stats)"
   ]
  },
  {
   "cell_type": "markdown",
   "metadata": {},
   "source": [
    "When we examine the polarity and subjectivity scoring, we see that:\n",
    "* There is overall positive sentiment for all four stations, with little to none significant differences between them. \n",
    "* There is an overall objective reporting of climate change for all news stations with little significant differences between them. \n",
    "\n",
    "\n"
   ]
  },
  {
   "cell_type": "code",
   "execution_count": 17,
   "metadata": {},
   "outputs": [
    {
     "data": {
      "text/plain": [
       "polarity_binary\n",
       "positive    70137\n",
       "negative    20726\n",
       "Name: count, dtype: int64"
      ]
     },
     "execution_count": 17,
     "metadata": {},
     "output_type": "execute_result"
    }
   ],
   "source": [
    "df['polarity_binary'].value_counts()"
   ]
  },
  {
   "cell_type": "code",
   "execution_count": 25,
   "metadata": {},
   "outputs": [
    {
     "data": {
      "text/html": [
       "<div>\n",
       "<style scoped>\n",
       "    .dataframe tbody tr th:only-of-type {\n",
       "        vertical-align: middle;\n",
       "    }\n",
       "\n",
       "    .dataframe tbody tr th {\n",
       "        vertical-align: top;\n",
       "    }\n",
       "\n",
       "    .dataframe thead th {\n",
       "        text-align: right;\n",
       "    }\n",
       "</style>\n",
       "<table border=\"1\" class=\"dataframe\">\n",
       "  <thead>\n",
       "    <tr style=\"text-align: right;\">\n",
       "      <th></th>\n",
       "      <th></th>\n",
       "      <th>counts</th>\n",
       "      <th>percentage</th>\n",
       "    </tr>\n",
       "    <tr>\n",
       "      <th>station</th>\n",
       "      <th>polarity_binary</th>\n",
       "      <th></th>\n",
       "      <th></th>\n",
       "    </tr>\n",
       "  </thead>\n",
       "  <tbody>\n",
       "    <tr>\n",
       "      <th rowspan=\"2\" valign=\"top\">BBCNEWS</th>\n",
       "      <th>positive</th>\n",
       "      <td>17533</td>\n",
       "      <td>0.192961</td>\n",
       "    </tr>\n",
       "    <tr>\n",
       "      <th>negative</th>\n",
       "      <td>5160</td>\n",
       "      <td>0.056789</td>\n",
       "    </tr>\n",
       "    <tr>\n",
       "      <th rowspan=\"2\" valign=\"top\">CNN</th>\n",
       "      <th>positive</th>\n",
       "      <td>14729</td>\n",
       "      <td>0.162101</td>\n",
       "    </tr>\n",
       "    <tr>\n",
       "      <th>negative</th>\n",
       "      <td>4011</td>\n",
       "      <td>0.044143</td>\n",
       "    </tr>\n",
       "    <tr>\n",
       "      <th rowspan=\"2\" valign=\"top\">FOXNEWS</th>\n",
       "      <th>positive</th>\n",
       "      <td>17767</td>\n",
       "      <td>0.195536</td>\n",
       "    </tr>\n",
       "    <tr>\n",
       "      <th>negative</th>\n",
       "      <td>6070</td>\n",
       "      <td>0.066804</td>\n",
       "    </tr>\n",
       "    <tr>\n",
       "      <th rowspan=\"2\" valign=\"top\">MSNBC</th>\n",
       "      <th>positive</th>\n",
       "      <td>20108</td>\n",
       "      <td>0.221300</td>\n",
       "    </tr>\n",
       "    <tr>\n",
       "      <th>negative</th>\n",
       "      <td>5485</td>\n",
       "      <td>0.060366</td>\n",
       "    </tr>\n",
       "  </tbody>\n",
       "</table>\n",
       "</div>"
      ],
      "text/plain": [
       "                         counts  percentage\n",
       "station polarity_binary                    \n",
       "BBCNEWS positive          17533    0.192961\n",
       "        negative           5160    0.056789\n",
       "CNN     positive          14729    0.162101\n",
       "        negative           4011    0.044143\n",
       "FOXNEWS positive          17767    0.195536\n",
       "        negative           6070    0.066804\n",
       "MSNBC   positive          20108    0.221300\n",
       "        negative           5485    0.060366"
      ]
     },
     "execution_count": 25,
     "metadata": {},
     "output_type": "execute_result"
    }
   ],
   "source": [
    "p_counts = df.groupby('station')['polarity_binary'].value_counts()\n",
    "p_perc = df.groupby('station')['polarity_binary'].value_counts()/len(df)\n",
    "\n",
    "polarity_table = pd.DataFrame({\n",
    "    'counts':p_counts,\n",
    "    'percentage': p_perc\n",
    "})\n",
    "\n",
    "polarity_table"
   ]
  },
  {
   "cell_type": "code",
   "execution_count": 19,
   "metadata": {},
   "outputs": [
    {
     "data": {
      "text/plain": [
       "subjectivity_binary\n",
       "objective     61377\n",
       "subjective    29486\n",
       "Name: count, dtype: int64"
      ]
     },
     "execution_count": 19,
     "metadata": {},
     "output_type": "execute_result"
    }
   ],
   "source": [
    "df['subjectivity_binary'].value_counts()"
   ]
  },
  {
   "cell_type": "code",
   "execution_count": 27,
   "metadata": {},
   "outputs": [
    {
     "data": {
      "text/html": [
       "<div>\n",
       "<style scoped>\n",
       "    .dataframe tbody tr th:only-of-type {\n",
       "        vertical-align: middle;\n",
       "    }\n",
       "\n",
       "    .dataframe tbody tr th {\n",
       "        vertical-align: top;\n",
       "    }\n",
       "\n",
       "    .dataframe thead th {\n",
       "        text-align: right;\n",
       "    }\n",
       "</style>\n",
       "<table border=\"1\" class=\"dataframe\">\n",
       "  <thead>\n",
       "    <tr style=\"text-align: right;\">\n",
       "      <th></th>\n",
       "      <th></th>\n",
       "      <th>counts</th>\n",
       "      <th>percentage</th>\n",
       "    </tr>\n",
       "    <tr>\n",
       "      <th>station</th>\n",
       "      <th>subjectivity_binary</th>\n",
       "      <th></th>\n",
       "      <th></th>\n",
       "    </tr>\n",
       "  </thead>\n",
       "  <tbody>\n",
       "    <tr>\n",
       "      <th rowspan=\"2\" valign=\"top\">BBCNEWS</th>\n",
       "      <th>objective</th>\n",
       "      <td>15160</td>\n",
       "      <td>0.166845</td>\n",
       "    </tr>\n",
       "    <tr>\n",
       "      <th>subjective</th>\n",
       "      <td>7533</td>\n",
       "      <td>0.082905</td>\n",
       "    </tr>\n",
       "    <tr>\n",
       "      <th rowspan=\"2\" valign=\"top\">CNN</th>\n",
       "      <th>objective</th>\n",
       "      <td>12320</td>\n",
       "      <td>0.135589</td>\n",
       "    </tr>\n",
       "    <tr>\n",
       "      <th>subjective</th>\n",
       "      <td>6420</td>\n",
       "      <td>0.070656</td>\n",
       "    </tr>\n",
       "    <tr>\n",
       "      <th rowspan=\"2\" valign=\"top\">FOXNEWS</th>\n",
       "      <th>objective</th>\n",
       "      <td>16938</td>\n",
       "      <td>0.186413</td>\n",
       "    </tr>\n",
       "    <tr>\n",
       "      <th>subjective</th>\n",
       "      <td>6899</td>\n",
       "      <td>0.075927</td>\n",
       "    </tr>\n",
       "    <tr>\n",
       "      <th rowspan=\"2\" valign=\"top\">MSNBC</th>\n",
       "      <th>objective</th>\n",
       "      <td>16959</td>\n",
       "      <td>0.186644</td>\n",
       "    </tr>\n",
       "    <tr>\n",
       "      <th>subjective</th>\n",
       "      <td>8634</td>\n",
       "      <td>0.095022</td>\n",
       "    </tr>\n",
       "  </tbody>\n",
       "</table>\n",
       "</div>"
      ],
      "text/plain": [
       "                             counts  percentage\n",
       "station subjectivity_binary                    \n",
       "BBCNEWS objective             15160    0.166845\n",
       "        subjective             7533    0.082905\n",
       "CNN     objective             12320    0.135589\n",
       "        subjective             6420    0.070656\n",
       "FOXNEWS objective             16938    0.186413\n",
       "        subjective             6899    0.075927\n",
       "MSNBC   objective             16959    0.186644\n",
       "        subjective             8634    0.095022"
      ]
     },
     "execution_count": 27,
     "metadata": {},
     "output_type": "execute_result"
    }
   ],
   "source": [
    "s_counts = df.groupby('station')['subjectivity_binary'].value_counts()\n",
    "s_perc = df.groupby('station')['subjectivity_binary'].value_counts()/len(df)\n",
    "\n",
    "subjectivity_table = pd.DataFrame({\n",
    "    'counts':s_counts,\n",
    "    'percentage': s_perc\n",
    "})\n",
    "\n",
    "subjectivity_table"
   ]
  }
 ],
 "metadata": {
  "kernelspec": {
   "display_name": "ADS500B",
   "language": "python",
   "name": "python3"
  },
  "language_info": {
   "codemirror_mode": {
    "name": "ipython",
    "version": 3
   },
   "file_extension": ".py",
   "mimetype": "text/x-python",
   "name": "python",
   "nbconvert_exporter": "python",
   "pygments_lexer": "ipython3",
   "version": "3.10.4"
  },
  "orig_nbformat": 4
 },
 "nbformat": 4,
 "nbformat_minor": 2
}
